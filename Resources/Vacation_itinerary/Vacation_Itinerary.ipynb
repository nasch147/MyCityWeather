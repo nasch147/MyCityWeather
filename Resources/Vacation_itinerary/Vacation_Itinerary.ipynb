{
 "cells": [
  {
   "cell_type": "markdown",
   "metadata": {},
   "source": [
    "## Deliverable 3. Create a Travel Itinerary Map."
   ]
  },
  {
   "cell_type": "code",
   "execution_count": 27,
   "metadata": {},
   "outputs": [],
   "source": [
    "# Dependencies and Setup\n",
    "import pandas as pd\n",
    "import requests\n",
    "import gmaps\n",
    "import numpy as np\n",
    "\n",
    "# Import API key\n",
    "from config import maps_api_key\n",
    "\n",
    "# Configure gmaps\n",
    "gmaps.configure(api_key=maps_api_key)"
   ]
  },
  {
   "cell_type": "code",
   "execution_count": 20,
   "metadata": {},
   "outputs": [
    {
     "data": {
      "text/html": [
       "<div>\n",
       "<style scoped>\n",
       "    .dataframe tbody tr th:only-of-type {\n",
       "        vertical-align: middle;\n",
       "    }\n",
       "\n",
       "    .dataframe tbody tr th {\n",
       "        vertical-align: top;\n",
       "    }\n",
       "\n",
       "    .dataframe thead th {\n",
       "        text-align: right;\n",
       "    }\n",
       "</style>\n",
       "<table border=\"1\" class=\"dataframe\">\n",
       "  <thead>\n",
       "    <tr style=\"text-align: right;\">\n",
       "      <th></th>\n",
       "      <th>City_ID</th>\n",
       "      <th>City</th>\n",
       "      <th>Country</th>\n",
       "      <th>Max Temp</th>\n",
       "      <th>Description</th>\n",
       "      <th>Lat</th>\n",
       "      <th>Lng</th>\n",
       "      <th>Hotel Name</th>\n",
       "    </tr>\n",
       "  </thead>\n",
       "  <tbody>\n",
       "    <tr>\n",
       "      <th>0</th>\n",
       "      <td>2</td>\n",
       "      <td>Kavieng</td>\n",
       "      <td>PG</td>\n",
       "      <td>81.09</td>\n",
       "      <td>overcast clouds</td>\n",
       "      <td>-2.5744</td>\n",
       "      <td>150.7967</td>\n",
       "      <td>Nusa Island Retreat</td>\n",
       "    </tr>\n",
       "    <tr>\n",
       "      <th>1</th>\n",
       "      <td>3</td>\n",
       "      <td>Kapaa</td>\n",
       "      <td>US</td>\n",
       "      <td>76.12</td>\n",
       "      <td>broken clouds</td>\n",
       "      <td>22.0752</td>\n",
       "      <td>-159.3190</td>\n",
       "      <td>Sheraton Kauai Coconut Beach Resort</td>\n",
       "    </tr>\n",
       "    <tr>\n",
       "      <th>2</th>\n",
       "      <td>4</td>\n",
       "      <td>Port Elizabeth</td>\n",
       "      <td>ZA</td>\n",
       "      <td>70.09</td>\n",
       "      <td>clear sky</td>\n",
       "      <td>-33.9180</td>\n",
       "      <td>25.5701</td>\n",
       "      <td>39 On Nile Guest House</td>\n",
       "    </tr>\n",
       "    <tr>\n",
       "      <th>3</th>\n",
       "      <td>7</td>\n",
       "      <td>Rikitea</td>\n",
       "      <td>PF</td>\n",
       "      <td>78.46</td>\n",
       "      <td>light rain</td>\n",
       "      <td>-23.1203</td>\n",
       "      <td>-134.9692</td>\n",
       "      <td>People ThankYou</td>\n",
       "    </tr>\n",
       "    <tr>\n",
       "      <th>4</th>\n",
       "      <td>8</td>\n",
       "      <td>Hobart</td>\n",
       "      <td>AU</td>\n",
       "      <td>62.02</td>\n",
       "      <td>broken clouds</td>\n",
       "      <td>-42.8794</td>\n",
       "      <td>147.3294</td>\n",
       "      <td>Mantra on Collins Hobart</td>\n",
       "    </tr>\n",
       "    <tr>\n",
       "      <th>...</th>\n",
       "      <td>...</td>\n",
       "      <td>...</td>\n",
       "      <td>...</td>\n",
       "      <td>...</td>\n",
       "      <td>...</td>\n",
       "      <td>...</td>\n",
       "      <td>...</td>\n",
       "      <td>...</td>\n",
       "    </tr>\n",
       "    <tr>\n",
       "      <th>317</th>\n",
       "      <td>662</td>\n",
       "      <td>Auki</td>\n",
       "      <td>SB</td>\n",
       "      <td>77.09</td>\n",
       "      <td>light rain</td>\n",
       "      <td>-8.7676</td>\n",
       "      <td>160.7034</td>\n",
       "      <td>Auki Motel</td>\n",
       "    </tr>\n",
       "    <tr>\n",
       "      <th>318</th>\n",
       "      <td>664</td>\n",
       "      <td>Mount Gambier</td>\n",
       "      <td>AU</td>\n",
       "      <td>60.71</td>\n",
       "      <td>overcast clouds</td>\n",
       "      <td>-37.8333</td>\n",
       "      <td>140.7667</td>\n",
       "      <td>The Commodore</td>\n",
       "    </tr>\n",
       "    <tr>\n",
       "      <th>319</th>\n",
       "      <td>665</td>\n",
       "      <td>San Carlos De Bariloche</td>\n",
       "      <td>AR</td>\n",
       "      <td>85.75</td>\n",
       "      <td>clear sky</td>\n",
       "      <td>-41.1456</td>\n",
       "      <td>-71.3082</td>\n",
       "      <td>Hotel Patagonia</td>\n",
       "    </tr>\n",
       "    <tr>\n",
       "      <th>320</th>\n",
       "      <td>667</td>\n",
       "      <td>Kirakira</td>\n",
       "      <td>SB</td>\n",
       "      <td>79.84</td>\n",
       "      <td>light rain</td>\n",
       "      <td>-10.4544</td>\n",
       "      <td>161.9205</td>\n",
       "      <td>SanBiz Lodge</td>\n",
       "    </tr>\n",
       "    <tr>\n",
       "      <th>321</th>\n",
       "      <td>670</td>\n",
       "      <td>Maxixe</td>\n",
       "      <td>MZ</td>\n",
       "      <td>75.67</td>\n",
       "      <td>clear sky</td>\n",
       "      <td>-23.8597</td>\n",
       "      <td>35.3472</td>\n",
       "      <td>Oceano</td>\n",
       "    </tr>\n",
       "  </tbody>\n",
       "</table>\n",
       "<p>322 rows × 8 columns</p>\n",
       "</div>"
      ],
      "text/plain": [
       "     City_ID                     City Country  Max Temp      Description  \\\n",
       "0          2                  Kavieng      PG     81.09  overcast clouds   \n",
       "1          3                    Kapaa      US     76.12    broken clouds   \n",
       "2          4           Port Elizabeth      ZA     70.09        clear sky   \n",
       "3          7                  Rikitea      PF     78.46       light rain   \n",
       "4          8                   Hobart      AU     62.02    broken clouds   \n",
       "..       ...                      ...     ...       ...              ...   \n",
       "317      662                     Auki      SB     77.09       light rain   \n",
       "318      664            Mount Gambier      AU     60.71  overcast clouds   \n",
       "319      665  San Carlos De Bariloche      AR     85.75        clear sky   \n",
       "320      667                 Kirakira      SB     79.84       light rain   \n",
       "321      670                   Maxixe      MZ     75.67        clear sky   \n",
       "\n",
       "         Lat       Lng                           Hotel Name  \n",
       "0    -2.5744  150.7967                  Nusa Island Retreat  \n",
       "1    22.0752 -159.3190  Sheraton Kauai Coconut Beach Resort  \n",
       "2   -33.9180   25.5701               39 On Nile Guest House  \n",
       "3   -23.1203 -134.9692                      People ThankYou  \n",
       "4   -42.8794  147.3294             Mantra on Collins Hobart  \n",
       "..       ...       ...                                  ...  \n",
       "317  -8.7676  160.7034                           Auki Motel  \n",
       "318 -37.8333  140.7667                        The Commodore  \n",
       "319 -41.1456  -71.3082                      Hotel Patagonia  \n",
       "320 -10.4544  161.9205                         SanBiz Lodge  \n",
       "321 -23.8597   35.3472                               Oceano  \n",
       "\n",
       "[322 rows x 8 columns]"
      ]
     },
     "execution_count": 20,
     "metadata": {},
     "output_type": "execute_result"
    }
   ],
   "source": [
    "# 1. Read the WeatherPy_vacation.csv into a DataFrame.\n",
    "vacation_data_df = pd.read_csv(\"WeatherPy_vacation.csv\")\n",
    "vacation_data_df\n"
   ]
  },
  {
   "cell_type": "code",
   "execution_count": 21,
   "metadata": {},
   "outputs": [],
   "source": [
    "# 2. Using the template add the city name, the country code, the weather description and maximum temperature for the city.\n",
    "info_box_template = \"\"\"\n",
    "<dl>\n",
    "<dt>Hotel Name</dt><dd>{Hotel Name}</dd>\n",
    "<dt>City</dt><dd>{City}</dd>\n",
    "<dt>Country</dt><dd>{Country}</dd>\n",
    "<dt>Description</dt><dd>{Description}</dd>\n",
    "<dt>Max Temp</dt><dd>{Max Temp} °F</dd>\n",
    "</dl>\n",
    "\"\"\"\n",
    "\n",
    "# 3a. Get the data from each row and add it to the formatting template and store the data in a list.\n",
    "hotel_info = [info_box_template.format(**row) for index, row in vacation_data_df.iterrows()]\n",
    "\n",
    "# 3b. Get the latitude and longitude from each row and store in a new DataFrame.\n",
    "locations = vacation_data_df[[\"Lat\", \"Lng\"]]"
   ]
  },
  {
   "cell_type": "code",
   "execution_count": 24,
   "metadata": {},
   "outputs": [
    {
     "data": {
      "application/vnd.jupyter.widget-view+json": {
       "model_id": "1612852e9ba1413589b3e7e34dc53f66",
       "version_major": 2,
       "version_minor": 0
      },
      "text/plain": [
       "Figure(layout=FigureLayout(height='420px'))"
      ]
     },
     "metadata": {},
     "output_type": "display_data"
    }
   ],
   "source": [
    "# 4a. Add a marker layer for each city to the map.\n",
    "locations = vacation_data_df[[\"Lat\", \"Lng\"]]\n",
    "max_temp = vacation_data_df[\"Max Temp\"]\n",
    "fig = gmaps.figure(center=(30.0, 31.0), zoom_level=1.5)\n",
    "heat_layer = gmaps.heatmap_layer(locations, weights=max_temp,dissipating=False,\n",
    "             max_intensity=300, point_radius=4)\n",
    "marker_layer = gmaps.marker_layer(locations, info_box_content=hotel_info)\n",
    "fig.add_layer(heat_layer)\n",
    "fig.add_layer(marker_layer)\n",
    "# 4b. Display the figure\n",
    "fig\n"
   ]
  },
  {
   "cell_type": "code",
   "execution_count": 28,
   "metadata": {},
   "outputs": [],
   "source": [
    "# From the map above pick 4 cities and create a vacation itinerary route to travel between the four cities. \n",
    "# 5. Create DataFrames for each city by filtering the 'vacation_df' using the loc method. \n",
    "# Hint: The starting and ending city should be the same city.\n",
    "\n",
    "vacation_start = vacation_data_df.loc[vacation_data_df[\"City\"] ==\"Laguna\" ]\n",
    "vacation_end = vacation_data_df.loc[vacation_data_df[\"City\"] ==\"Laguna\" ]\n",
    "vacation_stop1 = vacation_data_df.loc[vacation_data_df[\"City\"] ==\"Healdsburg\" ]\n",
    "vacation_stop2 = vacation_data_df.loc[vacation_data_df[\"City\"] ==\"Half Moon Bay\" ]\n",
    "vacation_stop3 = vacation_data_df.loc[vacation_data_df[\"City\"] ==\"Pacific Grove\" ]"
   ]
  },
  {
   "cell_type": "code",
   "execution_count": 29,
   "metadata": {},
   "outputs": [
    {
     "name": "stdout",
     "output_type": "stream",
     "text": [
      "Start: (38.421, -121.4238), End: (38.421, -121.4238), stop 1: (38.6105, -122.8692),stop 2: (37.4636, -122.4286),stop 3: (36.6177, -121.9166)\n"
     ]
    }
   ],
   "source": [
    "# 6. Get the latitude-longitude pairs as tuples from each city DataFrame using the to_numpy function and list indexing.\n",
    "start = vacation_start[\"Lat\"].to_numpy()[0], vacation_start[\"Lng\"].to_numpy()[0]\n",
    "end = vacation_end[\"Lat\"].to_numpy()[0], vacation_end[\"Lng\"].to_numpy()[0]\n",
    "stop1 = vacation_stop1[\"Lat\"].to_numpy()[0], vacation_stop1[\"Lng\"].to_numpy()[0]\n",
    "stop2 = vacation_stop2[\"Lat\"].to_numpy()[0], vacation_stop2[\"Lng\"].to_numpy()[0]\n",
    "stop3 = vacation_stop3[\"Lat\"].to_numpy()[0], vacation_stop3[\"Lng\"].to_numpy()[0]\n",
    "print(f'Start: {start}, End: {end}, stop 1: {stop1},stop 2: {stop2},stop 3: {stop3}')"
   ]
  },
  {
   "cell_type": "code",
   "execution_count": 30,
   "metadata": {
    "scrolled": true
   },
   "outputs": [
    {
     "data": {
      "application/vnd.jupyter.widget-view+json": {
       "model_id": "cd5e8a87963548cb96e5c8d2a6e0b7f1",
       "version_major": 2,
       "version_minor": 0
      },
      "text/plain": [
       "Figure(layout=FigureLayout(height='420px'))"
      ]
     },
     "metadata": {},
     "output_type": "display_data"
    }
   ],
   "source": [
    "# 7. Create a direction layer map using the start and end latitude-longitude pairs,\n",
    "# and stop1, stop2, and stop3 as the waypoints. The travel_mode should be \"DRIVING\", \"BICYCLING\", or \"WALKING\".\n",
    "fig = gmaps.figure()\n",
    "vacation_itinerary = gmaps.directions_layer(\n",
    "        start, end, waypoints=[stop1, stop2, stop3],\n",
    "        travel_mode='DRIVING')\n",
    "\n",
    "fig.add_layer(vacation_itinerary)\n",
    "fig\n"
   ]
  },
  {
   "cell_type": "code",
   "execution_count": 32,
   "metadata": {},
   "outputs": [
    {
     "data": {
      "text/html": [
       "<div>\n",
       "<style scoped>\n",
       "    .dataframe tbody tr th:only-of-type {\n",
       "        vertical-align: middle;\n",
       "    }\n",
       "\n",
       "    .dataframe tbody tr th {\n",
       "        vertical-align: top;\n",
       "    }\n",
       "\n",
       "    .dataframe thead th {\n",
       "        text-align: right;\n",
       "    }\n",
       "</style>\n",
       "<table border=\"1\" class=\"dataframe\">\n",
       "  <thead>\n",
       "    <tr style=\"text-align: right;\">\n",
       "      <th></th>\n",
       "      <th>City_ID</th>\n",
       "      <th>City</th>\n",
       "      <th>Country</th>\n",
       "      <th>Max Temp</th>\n",
       "      <th>Description</th>\n",
       "      <th>Lat</th>\n",
       "      <th>Lng</th>\n",
       "      <th>Hotel Name</th>\n",
       "    </tr>\n",
       "  </thead>\n",
       "  <tbody>\n",
       "    <tr>\n",
       "      <th>0</th>\n",
       "      <td>256</td>\n",
       "      <td>Laguna</td>\n",
       "      <td>US</td>\n",
       "      <td>80.44</td>\n",
       "      <td>few clouds</td>\n",
       "      <td>38.4210</td>\n",
       "      <td>-121.4238</td>\n",
       "      <td>Holiday Inn Express &amp; Suites Elk Grove Central...</td>\n",
       "    </tr>\n",
       "    <tr>\n",
       "      <th>1</th>\n",
       "      <td>256</td>\n",
       "      <td>Laguna</td>\n",
       "      <td>US</td>\n",
       "      <td>80.44</td>\n",
       "      <td>few clouds</td>\n",
       "      <td>38.4210</td>\n",
       "      <td>-121.4238</td>\n",
       "      <td>Holiday Inn Express &amp; Suites Elk Grove Central...</td>\n",
       "    </tr>\n",
       "    <tr>\n",
       "      <th>2</th>\n",
       "      <td>88</td>\n",
       "      <td>Healdsburg</td>\n",
       "      <td>US</td>\n",
       "      <td>80.10</td>\n",
       "      <td>clear sky</td>\n",
       "      <td>38.6105</td>\n",
       "      <td>-122.8692</td>\n",
       "      <td>Best Western Dry Creek Inn</td>\n",
       "    </tr>\n",
       "    <tr>\n",
       "      <th>3</th>\n",
       "      <td>264</td>\n",
       "      <td>Half Moon Bay</td>\n",
       "      <td>US</td>\n",
       "      <td>79.61</td>\n",
       "      <td>clear sky</td>\n",
       "      <td>37.4636</td>\n",
       "      <td>-122.4286</td>\n",
       "      <td>The Ritz-Carlton, Half Moon Bay</td>\n",
       "    </tr>\n",
       "    <tr>\n",
       "      <th>4</th>\n",
       "      <td>331</td>\n",
       "      <td>Pacific Grove</td>\n",
       "      <td>US</td>\n",
       "      <td>84.61</td>\n",
       "      <td>clear sky</td>\n",
       "      <td>36.6177</td>\n",
       "      <td>-121.9166</td>\n",
       "      <td>Lovers Point Inn</td>\n",
       "    </tr>\n",
       "  </tbody>\n",
       "</table>\n",
       "</div>"
      ],
      "text/plain": [
       "   City_ID           City Country  Max Temp Description      Lat       Lng  \\\n",
       "0      256         Laguna      US     80.44  few clouds  38.4210 -121.4238   \n",
       "1      256         Laguna      US     80.44  few clouds  38.4210 -121.4238   \n",
       "2       88     Healdsburg      US     80.10   clear sky  38.6105 -122.8692   \n",
       "3      264  Half Moon Bay      US     79.61   clear sky  37.4636 -122.4286   \n",
       "4      331  Pacific Grove      US     84.61   clear sky  36.6177 -121.9166   \n",
       "\n",
       "                                          Hotel Name  \n",
       "0  Holiday Inn Express & Suites Elk Grove Central...  \n",
       "1  Holiday Inn Express & Suites Elk Grove Central...  \n",
       "2                         Best Western Dry Creek Inn  \n",
       "3                    The Ritz-Carlton, Half Moon Bay  \n",
       "4                                   Lovers Point Inn  "
      ]
     },
     "execution_count": 32,
     "metadata": {},
     "output_type": "execute_result"
    }
   ],
   "source": [
    "# 8. To create a marker layer map between the four cities.\n",
    "#  Combine the four city DataFrames into one DataFrame using the concat() function.\n",
    "itinerary_df = pd.concat([vacation_start,vacation_end,vacation_stop1,vacation_stop2,vacation_stop3],ignore_index=True)\n",
    "itinerary_df"
   ]
  },
  {
   "cell_type": "code",
   "execution_count": 34,
   "metadata": {},
   "outputs": [],
   "source": [
    "# 9 Using the template add city name, the country code, the weather description and maximum temperature for the city. \n",
    "info_box_template = \"\"\"\n",
    "<dl>\n",
    "<dt>Hotel Name</dt><dd>{Hotel Name}</dd>\n",
    "<dt>City</dt><dd>{City}</dd>\n",
    "<dt>Country</dt><dd>{Country}</dd>\n",
    "<dt>Description</dt><dd>{Description}</dd>\n",
    "<dt>Max Temp</dt><dd>{Max Temp} °F</dd>\n",
    "</dl>\n",
    "\"\"\"\n",
    "\n",
    "# 10a Get the data from each row and add it to the formatting template and store the data in a list.\n",
    "hotel_info = [info_box_template.format(**row) for index, row in itinerary_df.iterrows()]\n",
    "\n",
    "# 10b. Get the latitude and longitude from each row and store in a new DataFrame.\n",
    "locations = itinerary_df[[\"Lat\", \"Lng\"]]"
   ]
  },
  {
   "cell_type": "code",
   "execution_count": 35,
   "metadata": {},
   "outputs": [
    {
     "data": {
      "application/vnd.jupyter.widget-view+json": {
       "model_id": "bcdc01f08b93416d80572544dc3d2b5a",
       "version_major": 2,
       "version_minor": 0
      },
      "text/plain": [
       "Figure(layout=FigureLayout(height='420px'))"
      ]
     },
     "metadata": {},
     "output_type": "display_data"
    }
   ],
   "source": [
    "# 11a. Add a marker layer for each city to the map.\n",
    "locations = itinerary_df[[\"Lat\", \"Lng\"]]\n",
    "max_temp = itinerary_df[\"Max Temp\"]\n",
    "fig = gmaps.figure(center=(30.0, 31.0), zoom_level=1.5)\n",
    "heat_layer = gmaps.heatmap_layer(locations, weights=max_temp,dissipating=False,\n",
    "             max_intensity=300, point_radius=4)\n",
    "marker_layer = gmaps.marker_layer(locations, info_box_content=hotel_info)\n",
    "fig.add_layer(heat_layer)\n",
    "fig.add_layer(marker_layer)\n",
    "# 11b. Display the figure\n",
    "fig"
   ]
  },
  {
   "cell_type": "code",
   "execution_count": null,
   "metadata": {},
   "outputs": [],
   "source": []
  }
 ],
 "metadata": {
  "kernelspec": {
   "display_name": "PythonData",
   "language": "python",
   "name": "pythondata"
  },
  "language_info": {
   "codemirror_mode": {
    "name": "ipython",
    "version": 3
   },
   "file_extension": ".py",
   "mimetype": "text/x-python",
   "name": "python",
   "nbconvert_exporter": "python",
   "pygments_lexer": "ipython3",
   "version": "3.7.11"
  },
  "latex_envs": {
   "LaTeX_envs_menu_present": true,
   "autoclose": false,
   "autocomplete": true,
   "bibliofile": "biblio.bib",
   "cite_by": "apalike",
   "current_citInitial": 1,
   "eqLabelWithNumbers": true,
   "eqNumInitial": 1,
   "hotkeys": {
    "equation": "Ctrl-E",
    "itemize": "Ctrl-I"
   },
   "labels_anchors": false,
   "latex_user_defs": false,
   "report_style_numbering": false,
   "user_envs_cfg": false
  }
 },
 "nbformat": 4,
 "nbformat_minor": 2
}
